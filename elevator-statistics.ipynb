{
 "cells": [
  {
   "cell_type": "markdown",
   "metadata": {},
   "source": [
    "# Elevator Telemetrics"
   ]
  },
  {
   "cell_type": "markdown",
   "metadata": {},
   "source": [
    "The following function connects to the Cloudant database containing the telemetrics "
   ]
  },
  {
   "cell_type": "code",
   "execution_count": 2,
   "metadata": {
    "collapsed": true
   },
   "outputs": [],
   "source": [
    "#Please don't modify this function\n",
    "def readDataFrameFromCloudant(host,user,pw,database):\n",
    "    cloudantdata=spark.read.format(\"com.cloudant.spark\"). \\\n",
    "    option(\"cloudant.host\",host). \\\n",
    "    option(\"cloudant.username\", user). \\\n",
    "    option(\"cloudant.password\", pw). \\\n",
    "    load(database)\n",
    "\n",
    "    cloudantdata.createOrReplaceTempView(\"elevator_telemetrics\")\n",
    "    spark.sql(\"SELECT * from elevator_telemetrics\").show()\n",
    "    return cloudantdata"
   ]
  },
  {
   "cell_type": "markdown",
   "metadata": {},
   "source": [
    "The following piece of code connects to the database and returns a RDD data frame for the telemetrics data."
   ]
  },
  {
   "cell_type": "code",
   "execution_count": 3,
   "metadata": {
    "collapsed": false
   },
   "outputs": [
    {
     "name": "stdout",
     "output_type": "stream",
     "text": [
      "+--------------------+--------------------+--------------------+----------+----------+---------+------+--------------------+\n",
      "|                 _id|                _rev|                data|  deviceId|deviceType|eventType|format|           timestamp|\n",
      "+--------------------+--------------------+--------------------+----------+----------+---------+------+--------------------+\n",
      "|001115e0-d67b-11e...|1-214078186ec43f1...|[[0.0,89,1,2.0,0....|Elevator01|  Elevator|   Status|  json|2017-01-09T14:50:...|\n",
      "|00116400-d67b-11e...|1-e9bd62a041e192d...|[[0.0,87,1,0.0,0....|Elevator02|  Elevator|   Status|  json|2017-01-09T14:50:...|\n",
      "|00116401-d67b-11e...|1-84f36dd2939fc6c...|[[14.0,78,1,4.0,0...|Elevator04|  Elevator|   Status|  json|2017-01-09T14:50:...|\n",
      "|00116401-d67b-11e...|1-1afc4a14b25a8ab...|[[4.0,72,1,2.0,0....|Elevator05|  Elevator|   Status|  json|2017-01-09T14:50:...|\n",
      "|00116401-d67b-11e...|1-248ef40a0e0e743...|[[0.0,76,1,0.0,0....|Elevator03|  Elevator|   Status|  json|2017-01-09T14:50:...|\n",
      "|0011b220-d67b-11e...|1-4909d9120d035c9...|[[14.0,71,1,4.0,0...|Elevator06|  Elevator|   Status|  json|2017-01-09T14:50:...|\n",
      "|00120040-d67b-11e...|1-200bbeb94562682...|[[8.0,95,1,2.0,0....|Elevator07|  Elevator|   Status|  json|2017-01-09T14:50:...|\n",
      "|0012c390-d67b-11e...|1-5be2a3995f8ba37...|[[0.0,80,1,1.0,0....|Elevator08|  Elevator|   Status|  json|2017-01-09T14:50:...|\n",
      "|0012eaa0-d67b-11e...|1-ca89559325c1d0e...|[[0.0,92,1,0.0,0....|Elevator10|  Elevator|   Status|  json|2017-01-09T14:50:...|\n",
      "|001311b0-d67b-11e...|1-eaafead45cac68a...|[[14.0,72,1,4.0,0...|Elevator09|  Elevator|   Status|  json|2017-01-09T14:50:...|\n",
      "|007b8cf2-d67a-11e...|1-0337108e484070e...|[[0.0,89,1,2.0,0....|Elevator01|  Elevator|   Status|  json|2017-01-09T14:43:...|\n",
      "|007bdb10-d67a-11e...|1-2a5883e2e95949f...|[[0.0,87,1,0.0,0....|Elevator02|  Elevator|   Status|  json|2017-01-09T14:43:...|\n",
      "|007bdb12-d67a-11e...|1-ff2d94aac0ce1ff...|[[0.0,76,1,3.0,0....|Elevator03|  Elevator|   Status|  json|2017-01-09T14:43:...|\n",
      "|007c5040-d67a-11e...|1-62ba68b3e348583...|[[14.0,78,1,6.0,0...|Elevator04|  Elevator|   Status|  json|2017-01-09T14:43:...|\n",
      "|007cec80-d67a-11e...|1-59f60b51cee2e97...|[[0.0,72,1,3.0,0....|Elevator05|  Elevator|   Status|  json|2017-01-09T14:43:...|\n",
      "|007d3aa0-d67a-11e...|1-6ce362d8dc6f4bc...|[[14.0,71,1,6.0,0...|Elevator06|  Elevator|   Status|  json|2017-01-09T14:43:...|\n",
      "|007d88c0-d67a-11e...|1-109228d42a87b75...|[[0.0,95,1,3.0,0....|Elevator07|  Elevator|   Status|  json|2017-01-09T14:43:...|\n",
      "|007dd6e0-d67a-11e...|1-6965af58f361106...|[[0.0,80,1,3.0,0....|Elevator08|  Elevator|   Status|  json|2017-01-09T14:43:...|\n",
      "|007dd6e0-d67a-11e...|1-ee36f2510eaccb2...|[[14.0,72,1,6.0,0...|Elevator09|  Elevator|   Status|  json|2017-01-09T14:43:...|\n",
      "|007e9a30-d67a-11e...|1-fb7a2c7a5829a2a...|[[0.0,92,1,1.0,0....|Elevator10|  Elevator|   Status|  json|2017-01-09T14:43:...|\n",
      "+--------------------+--------------------+--------------------+----------+----------+---------+------+--------------------+\n",
      "only showing top 20 rows\n",
      "\n"
     ]
    }
   ],
   "source": [
    "#TODO Please provide your Cloudant credentials here\n",
    "hostname = \"<your hostname here>\"\n",
    "user = \"<your user name here>\"\n",
    "pw = \"<your password here>\"\n",
    "database = \"<your database name here>\"\n",
    "\n",
    "cloudantdata=readDataFrameFromCloudant(hostname, user, pw, database)"
   ]
  },
  {
   "cell_type": "markdown",
   "metadata": {},
   "source": [
    "The next cells prepare the data for analysis:\n",
    "1) The data is extracted using a sample factor of 0.5 (50%). \n",
    "2) The map function selects the timestamp, the deviceId and the motor temperature. \n",
    "3) The sorted function sorts the data by the first element in the tuple (the timestamp)\n",
    "4) The filter function removes columns where the temperature is absent (None)"
   ]
  },
  {
   "cell_type": "code",
   "execution_count": 4,
   "metadata": {
    "collapsed": false
   },
   "outputs": [],
   "source": [
    "sampling_factor = 0.5\n",
    "\n",
    "def getData(df,spark):\n",
    "    etm = sorted(df.rdd.sample(False,sampling_factor).map(lambda row : (row.timestamp[:19],row.deviceId,row.data.d.motorTemp)).collect(), key = lambda data : data[0])\n",
    "    return filter(lambda (ts,dev,temp) : (not temp is None) and (not ts is None),etm)"
   ]
  },
  {
   "cell_type": "code",
   "execution_count": 5,
   "metadata": {
    "collapsed": false
   },
   "outputs": [],
   "source": [
    "elevator_telemetrics = getData(cloudantdata,spark)"
   ]
  },
  {
   "cell_type": "markdown",
   "metadata": {},
   "source": [
    "The next group of cells prepare the data for printing a history diagram using matplotlib\n",
    "1) The matplotlib library is imported\n",
    "2) The map function returns a list of the temperatures\n",
    "3) The history diagram is printed"
   ]
  },
  {
   "cell_type": "code",
   "execution_count": 6,
   "metadata": {
    "collapsed": true
   },
   "outputs": [],
   "source": [
    "%matplotlib inline\n",
    "import matplotlib.pyplot as plt"
   ]
  },
  {
   "cell_type": "code",
   "execution_count": 7,
   "metadata": {
    "collapsed": false
   },
   "outputs": [],
   "source": [
    "elevator_temp = map (lambda (ts,dev,temp) : int(temp), filter(lambda (ts,dev,temp) : True,elevator_telemetrics)) "
   ]
  },
  {
   "cell_type": "code",
   "execution_count": 8,
   "metadata": {
    "collapsed": false
   },
   "outputs": [
    {
     "data": {
      "image/png": "[encoded data removed]",
      "text/plain": [
       "<matplotlib.figure.Figure at 0x7efc5c57b1d0>"
      ]
     },
     "metadata": {},
     "output_type": "display_data"
    }
   ],
   "source": [
    "plt.hist(elevator_temp)\n",
    "plt.show()"
   ]
  },
  {
   "cell_type": "markdown",
   "metadata": {},
   "source": [
    "The next cell generates a matplot box diagram showing the mean value, the standard deviation, the outlier boundary and the outliers."
   ]
  },
  {
   "cell_type": "code",
   "execution_count": 9,
   "metadata": {
    "collapsed": false
   },
   "outputs": [
    {
     "data": {
      "image/png": "[encoded data removed]",
      "text/plain": [
       "<matplotlib.figure.Figure at 0x7efc5c0adc90>"
      ]
     },
     "metadata": {},
     "output_type": "display_data"
    }
   ],
   "source": [
    "plt.boxplot(elevator_temp)\n",
    "plt.show()"
   ]
  },
  {
   "cell_type": "markdown",
   "metadata": {},
   "source": [
    "The next cell prepare the data for a matplotlib runchart which is ideal to show time series. The plot function requires for a list of time stamps as well as a list of temperatures.\n",
    "For the temperatures we can reuse elevator_temp that was computed earlier. For the list of timestamps the date is converted to a timestamp before the diagram is printed."
   ]
  },
  {
   "cell_type": "code",
   "execution_count": 10,
   "metadata": {
    "collapsed": false
   },
   "outputs": [],
   "source": [
    "import time\n",
    "import datetime\n",
    "\n",
    "#myDate = \"2014-08-01 04:41:52,117\"\n",
    "#timestamp = time.mktime(datetime.datetime.strptime(myDate, \"%Y-%m-%d %H:%M:%S,%f\").timetuple())\n",
    "\n",
    "elevator_ts = map (lambda (date,dev,temp) : time.mktime(datetime.datetime.strptime(date, \"%Y-%m-%dT%H:%M:%S\").timetuple()), filter(lambda (ts,dev,temp) : not ts is None,elevator_telemetrics))"
   ]
  },
  {
   "cell_type": "code",
   "execution_count": 11,
   "metadata": {
    "collapsed": false
   },
   "outputs": [
    {
     "data": {
      "image/png": "[encoded data removed]",
      "text/plain": [
       "<matplotlib.figure.Figure at 0x7efbe46c26d0>"
      ]
     },
     "metadata": {},
     "output_type": "display_data"
    }
   ],
   "source": [
    "plt.plot(elevator_ts,elevator_temp)\n",
    "plt.xlabel(\"time\")\n",
    "plt.ylabel(\"temperature\")\n",
    "plt.show()"
   ]
  },
  {
   "cell_type": "markdown",
   "metadata": {},
   "source": [
    "This ends our initial investigation of the elevator telemetrics. The following observations can be made:\n",
    "1) The histogram informs us that the skew is negative which is to be expected.\n",
    "2) The boxplot tells us that the temperature of the engines is usually in the 160-180 area with some outlayers\n",
    "3) The time series diagram show the distribution over time and the point in time where the temperature deviates from the normal."
   ]
  }
 ],
 "metadata": {
  "kernelspec": {
   "display_name": "Python 2 with Spark 2.0",
   "language": "python",
   "name": "python2-spark20"
  },
  "language_info": {
   "codemirror_mode": {
    "name": "ipython",
    "version": 2
   },
   "file_extension": ".py",
   "mimetype": "text/x-python",
   "name": "python",
   "nbconvert_exporter": "python",
   "pygments_lexer": "ipython2",
   "version": "2.7.11"
  }
 },
 "nbformat": 4,
 "nbformat_minor": 0
}